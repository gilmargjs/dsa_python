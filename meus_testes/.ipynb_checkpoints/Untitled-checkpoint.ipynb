{
 "cells": [
  {
   "cell_type": "code",
   "execution_count": 1,
   "metadata": {},
   "outputs": [],
   "source": [
    "pais = ['brasil','argentina','japão','noruega','frança',]\n",
    "capital = {'brasil':'brasilia','argentina':'buenos aires','japão':'toquio','noruega':'seila','frança':'paris'}\n",
    "\n",
    "def verPalavra(array,objeto):\n",
    "    for i in array:\n",
    "        if (array.len > objeto.len):\n",
    "            objeto = i\n",
    "        else:\n",
    "            objeto.append([1])\n",
    "    print(objeto)\n",
    "    \n",
    "verPalavra(pais,capital)"
   ]
  },
  {
   "cell_type": "code",
   "execution_count": null,
   "metadata": {},
   "outputs": [],
   "source": []
  }
 ],
 "metadata": {
  "kernelspec": {
   "display_name": "Python 3",
   "language": "python",
   "name": "python3"
  },
  "language_info": {
   "codemirror_mode": {
    "name": "ipython",
    "version": 3
   },
   "file_extension": ".py",
   "mimetype": "text/x-python",
   "name": "python",
   "nbconvert_exporter": "python",
   "pygments_lexer": "ipython3",
   "version": "3.8.5"
  }
 },
 "nbformat": 4,
 "nbformat_minor": 4
}
