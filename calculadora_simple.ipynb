{
 "cells": [
  {
   "cell_type": "code",
   "execution_count": 15,
   "metadata": {},
   "outputs": [
    {
     "name": "stdout",
     "output_type": "stream",
     "text": [
      "=====================\n",
      "Digite o 1º numero 25\n",
      "=-------------------=\n",
      "Digite o 2º numero |56\n",
      "=-------------------=\n",
      "Digite a operação +\n",
      "===========================\n",
      "o valor da operação foi 81\n",
      "===========================\n"
     ]
    }
   ],
   "source": [
    "print('='*21)\n",
    "\n",
    "a = int(input(\"Digite o 1º numero \"))\n",
    "print('='+'-'*19+'=')\n",
    "b = int(input(\"Digite o 2º numero \"))\n",
    "print('='+'-'*19+'=')\n",
    "s = input('Digite a operação ')  \n",
    "\n",
    "print('='*27)\n",
    "\n",
    "if(s == \"+\"):\n",
    "    print(f'o valor da operação foi {a+b}')\n",
    "if(s == \"-\"):\n",
    "    print(f'o valor da operação foi {a-b}')\n",
    "if(s == \"*\"):\n",
    "    print(f'o valor da operação foi {a*b}')\n",
    "if(s == \"/\"):\n",
    "    print(f'o valor da operação foi {a/b}')\n",
    "if(s == \"%\"):\n",
    "    print(f'o valor da operação foi {a%b}')\n",
    "\n",
    "print('='*27) \n",
    "    "
   ]
  },
  {
   "cell_type": "code",
   "execution_count": null,
   "metadata": {},
   "outputs": [],
   "source": []
  },
  {
   "cell_type": "code",
   "execution_count": null,
   "metadata": {},
   "outputs": [],
   "source": []
  }
 ],
 "metadata": {
  "kernelspec": {
   "display_name": "Python 3",
   "language": "python",
   "name": "python3"
  },
  "language_info": {
   "codemirror_mode": {
    "name": "ipython",
    "version": 3
   },
   "file_extension": ".py",
   "mimetype": "text/x-python",
   "name": "python",
   "nbconvert_exporter": "python",
   "pygments_lexer": "ipython3",
   "version": "3.8.5"
  }
 },
 "nbformat": 4,
 "nbformat_minor": 4
}
