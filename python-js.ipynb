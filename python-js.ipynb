{
 "cells": [
  {
   "cell_type": "code",
   "execution_count": 5,
   "metadata": {},
   "outputs": [
    {
     "name": "stdout",
     "output_type": "stream",
     "text": [
      "Digite o seu nome! gilmar jose da silva\n",
      "GILMAR JOSE DA SILVA\n",
      "17\n",
      "6\n"
     ]
    }
   ],
   "source": [
    "'''criar programa que leia um nome completo\n",
    "   e retorne \n",
    "   - o nome com todas as letras Maiusculas\n",
    "   - Quantas Letras tem sem os espaços\n",
    "   - Quantas letras tem o primeiro nome'''\n",
    "nome = input('Digite o seu nome! ')\n",
    "print(nome.upper())\n",
    "meunome = nome.split()\n",
    "este = ''.join(meunome)\n",
    "print(len(este))\n",
    "print(len(meunome[0]))"
   ]
  },
  {
   "cell_type": "code",
   "execution_count": 8,
   "metadata": {},
   "outputs": [
    {
     "name": "stdout",
     "output_type": "stream",
     "text": [
      "Digite um número: 6589\n",
      "o numero 6589 tem a\n",
      "Milhar  6\n",
      "Centena 5\n",
      "dezena  8\n",
      "unidade 9\n"
     ]
    }
   ],
   "source": [
    "'''faça um programa que leia do número 0 até 9999\n",
    "   e mostre na tela cada um dos digitos separados\n",
    "   ex \n",
    "   unidade : 0\n",
    "   dezena  : 1 \n",
    "   centena : 2\n",
    "   milhar  : 1'''\n",
    "nu = int(input('Digite um número: '))\n",
    "unidade = nu//1%10\n",
    "dezena  = nu//10%10\n",
    "centena = nu//100%10\n",
    "milhar  = nu//1000%10\n",
    "print(f'o numero {nu} tem a\\nMilhar  {milhar}\\nCentena {centena}\\ndezena  {dezena}\\nunidade {unidade}')"
   ]
  },
  {
   "cell_type": "code",
   "execution_count": null,
   "metadata": {},
   "outputs": [],
   "source": [
    "'''programa que verifique o se no nome da cidade \n",
    "   começa com santos'''\n",
    "cidade = input('digite a cidade: ')\n",
    "cid = ''.join(cidade)\n",
    "len(cid)\n",
    "print(cid)\n",
    "cidade.find('santos')"
   ]
  },
  {
   "cell_type": "code",
   "execution_count": null,
   "metadata": {},
   "outputs": [],
   "source": []
  }
 ],
 "metadata": {
  "kernelspec": {
   "display_name": "Python 3",
   "language": "python",
   "name": "python3"
  },
  "language_info": {
   "codemirror_mode": {
    "name": "ipython",
    "version": 3
   },
   "file_extension": ".py",
   "mimetype": "text/x-python",
   "name": "python",
   "nbconvert_exporter": "python",
   "pygments_lexer": "ipython3",
   "version": "3.8.5"
  }
 },
 "nbformat": 4,
 "nbformat_minor": 4
}
