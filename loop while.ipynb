{
 "cells": [
  {
   "cell_type": "code",
   "execution_count": 1,
   "metadata": {},
   "outputs": [
    {
     "name": "stdout",
     "output_type": "stream",
     "text": [
      "0\n",
      "1\n",
      "2\n",
      "3\n",
      "4\n",
      "5\n",
      "6\n",
      "7\n",
      "8\n",
      "9\n"
     ]
    }
   ],
   "source": [
    "#usando o loop while para imprimir os valores de 0 a 9\n",
    "counter = 0\n",
    "while counter < 10:\n",
    "    print(counter)\n",
    "    counter = counter + 1"
   ]
  },
  {
   "cell_type": "code",
   "execution_count": 5,
   "metadata": {},
   "outputs": [
    {
     "name": "stdout",
     "output_type": "stream",
     "text": [
      "O Valor de x nesta iteração é;0\n",
      "x ainda é menor que 10, somando 1 a x\n",
      "O Valor de x nesta iteração é;1\n",
      "x ainda é menor que 10, somando 1 a x\n",
      "O Valor de x nesta iteração é;2\n",
      "x ainda é menor que 10, somando 1 a x\n",
      "O Valor de x nesta iteração é;3\n",
      "x ainda é menor que 10, somando 1 a x\n",
      "O Valor de x nesta iteração é;4\n",
      "x ainda é menor que 10, somando 1 a x\n",
      "O Valor de x nesta iteração é;5\n",
      "x ainda é menor que 10, somando 1 a x\n",
      "O Valor de x nesta iteração é;6\n",
      "x ainda é menor que 10, somando 1 a x\n",
      "O Valor de x nesta iteração é;7\n",
      "x ainda é menor que 10, somando 1 a x\n",
      "O Valor de x nesta iteração é;8\n",
      "x ainda é menor que 10, somando 1 a x\n",
      "O Valor de x nesta iteração é;9\n",
      "x ainda é menor que 10, somando 1 a x\n",
      "aqui o Loop Conclui em 10 e não volta para o valor de x\n"
     ]
    }
   ],
   "source": [
    "#também é posivel usar a clausula else para encerrar o loop while\n",
    "x = 0\n",
    " \n",
    "while x < 10:\n",
    "    print(f'O Valor de x nesta iteração é;{x}')\n",
    "    print('x ainda é menor que 10, somando 1 a x')\n",
    "    x += 1\n",
    "else:\n",
    "    print(f'aqui o Loop Conclui em {x} e não volta para o valor de x')"
   ]
  },
  {
   "cell_type": "code",
   "execution_count": 12,
   "metadata": {},
   "outputs": [
    {
     "name": "stdout",
     "output_type": "stream",
     "text": [
      "0\n",
      "1\n",
      "2\n",
      "3\n",
      "4\n",
      "5\n",
      "6\n",
      "7\n",
      "8\n",
      "9\n"
     ]
    }
   ],
   "source": [
    "#usando o break e pass\n",
    "contador = 0\n",
    "while contador < 100:\n",
    "    if contador == 10:\n",
    "        break\n",
    "    else:\n",
    "        pass\n",
    "    print(contador)\n",
    "    contador = contador + 1"
   ]
  },
  {
   "cell_type": "code",
   "execution_count": 13,
   "metadata": {},
   "outputs": [
    {
     "name": "stdout",
     "output_type": "stream",
     "text": [
      "p\n",
      "y\n",
      "t\n",
      "o\n",
      "n\n"
     ]
    }
   ],
   "source": [
    "#pular algunha sequência com 'continue'\n",
    "for verificador in 'python':\n",
    "    if verificador == 'h':\n",
    "        continue\n",
    "    print(verificador)"
   ]
  },
  {
   "cell_type": "code",
   "execution_count": 14,
   "metadata": {},
   "outputs": [
    {
     "name": "stdout",
     "output_type": "stream",
     "text": [
      "2é um número primo\n",
      "3é um número primo\n",
      "5é um número primo\n",
      "7é um número primo\n",
      "11é um número primo\n",
      "13é um número primo\n",
      "17é um número primo\n",
      "19é um número primo\n",
      "23é um número primo\n",
      "29é um número primo\n"
     ]
    }
   ],
   "source": [
    "#for e while juntos\n",
    "for i in range(2,30):\n",
    "    j = 2\n",
    "    contador = 0\n",
    "    while j < i:\n",
    "        if i % j == 0:\n",
    "            contador = 1\n",
    "            j = j + 1\n",
    "        else:\n",
    "            j = j + 1\n",
    "    if contador == 0:\n",
    "        print(str(i) + 'é um número primo')\n",
    "        contador = 0\n",
    "    else:\n",
    "        contador = 0"
   ]
  },
  {
   "cell_type": "code",
   "execution_count": null,
   "metadata": {},
   "outputs": [],
   "source": []
  }
 ],
 "metadata": {
  "kernelspec": {
   "display_name": "Python 3",
   "language": "python",
   "name": "python3"
  },
  "language_info": {
   "codemirror_mode": {
    "name": "ipython",
    "version": 3
   },
   "file_extension": ".py",
   "mimetype": "text/x-python",
   "name": "python",
   "nbconvert_exporter": "python",
   "pygments_lexer": "ipython3",
   "version": "3.8.5"
  }
 },
 "nbformat": 4,
 "nbformat_minor": 4
}
