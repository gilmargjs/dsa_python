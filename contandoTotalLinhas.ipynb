{
 "cells": [
  {
   "cell_type": "code",
   "execution_count": 1,
   "id": "together-ladder",
   "metadata": {},
   "outputs": [],
   "source": [
    "##########\n",
    "# contando total de linhas\n",
    "# f recebe o arquivo aberto no modo leitura\n",
    "\n",
    "f = open('salario.csv', 'r')"
   ]
  },
  {
   "cell_type": "code",
   "execution_count": 2,
   "id": "danish-rider",
   "metadata": {},
   "outputs": [],
   "source": [
    "#data recebe o arquivo para leitura\n",
    "data = f.read()"
   ]
  },
  {
   "cell_type": "code",
   "execution_count": 3,
   "id": "coupled-sector",
   "metadata": {},
   "outputs": [],
   "source": [
    "# rows recebe o arquivo data dividido por quebra de linha ou enter\n",
    "#split() é um metodo para quebra as strings no exemplo em cada virgula encontrada  \n",
    "rows = data.split('\\n')"
   ]
  },
  {
   "cell_type": "code",
   "execution_count": 4,
   "id": "passing-royal",
   "metadata": {},
   "outputs": [],
   "source": [
    "#full_data recebe uma lista vazia\n",
    "\n",
    "full_data = []"
   ]
  },
  {
   "cell_type": "code",
   "execution_count": 5,
   "id": "sporting-victor",
   "metadata": {},
   "outputs": [],
   "source": [
    "#laço for no arquivo rows\n",
    "#split_row recebe cada row divido por virgula\n",
    "# a lista vazia full_data recebe o split_row ou seja o valor de split_row é colocado dentro de full_data\n",
    "for row in rows:\n",
    "    split_row = row.split(\",\")\n",
    "    full_data.append(split_row)"
   ]
  },
  {
   "cell_type": "code",
   "execution_count": 6,
   "id": "documented-transfer",
   "metadata": {},
   "outputs": [],
   "source": [
    "count = 0\n",
    "for row in full_data:\n",
    "    count += 1"
   ]
  },
  {
   "cell_type": "code",
   "execution_count": 7,
   "id": "starting-dispute",
   "metadata": {},
   "outputs": [
    {
     "name": "stdout",
     "output_type": "stream",
     "text": [
      "32185\n"
     ]
    }
   ],
   "source": [
    "print(count)"
   ]
  }
 ],
 "metadata": {
  "kernelspec": {
   "display_name": "Python 3",
   "language": "python",
   "name": "python3"
  },
  "language_info": {
   "codemirror_mode": {
    "name": "ipython",
    "version": 3
   },
   "file_extension": ".py",
   "mimetype": "text/x-python",
   "name": "python",
   "nbconvert_exporter": "python",
   "pygments_lexer": "ipython3",
   "version": "3.9.1"
  }
 },
 "nbformat": 4,
 "nbformat_minor": 5
}
