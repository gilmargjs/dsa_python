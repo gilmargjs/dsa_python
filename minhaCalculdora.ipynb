{
  "nbformat": 4,
  "nbformat_minor": 0,
  "metadata": {
    "colab": {
      "name": "minhaCalculdora.ipynb",
      "provenance": [],
      "collapsed_sections": [],
      "authorship_tag": "ABX9TyPmKtBpzHtV4o+GrKhlriLS",
      "include_colab_link": true
    },
    "kernelspec": {
      "name": "python3",
      "display_name": "Python 3"
    },
    "language_info": {
      "name": "python"
    }
  },
  "cells": [
    {
      "cell_type": "markdown",
      "metadata": {
        "id": "view-in-github",
        "colab_type": "text"
      },
      "source": [
        "<a href=\"https://colab.research.google.com/github/gilmargjs/dsa_python/blob/main/minhaCalculdora.ipynb\" target=\"_parent\"><img src=\"https://colab.research.google.com/assets/colab-badge.svg\" alt=\"Open In Colab\"/></a>"
      ]
    },
    {
      "cell_type": "code",
      "metadata": {
        "colab": {
          "base_uri": "https://localhost:8080/"
        },
        "id": "ZA47lOJAeaYw",
        "outputId": "aac76140-9c3e-45de-bab1-20d6290d29a2"
      },
      "source": [
        "def calculate():\n",
        "    operacao = input('''\n",
        "Digite a Operação Matematica Que Deseja Realizar:\n",
        "1 para Adição\n",
        "2 para Subtração\n",
        "3 para Multiplicação\n",
        "4 para Divisão\n",
        "5 para Modulo\n",
        "''')\n",
        "\n",
        "    number_1 = int(input('Por favor insira o primeiro número : '))\n",
        "    number_2 = int(input('Por favor insira o segundo número : '))\n",
        "\n",
        "    if operacao == '1':\n",
        "        print('{} + {} = '.format(number_1, number_2))\n",
        "        print(number_1 + number_2)\n",
        "\n",
        "    elif operacao == '2':\n",
        "        print('{} - {} = '.format(number_1, number_2))\n",
        "        print(number_1 - number_2)\n",
        "\n",
        "    elif operacao == '3':\n",
        "        print('{} * {} = '.format(number_1, number_2))\n",
        "        print(number_1 * number_2)\n",
        "\n",
        "    elif operacao == '4':\n",
        "        print('{} / {} = '.format(number_1, number_2))\n",
        "        print(number_1 / number_2)\n",
        "\n",
        "    elif operacao == '5':\n",
        "        print('{} % {} = '.format(number_1, number_2))\n",
        "        print(number_1 % number_2)\n",
        "\n",
        "    else:\n",
        "        print('Você não digitou um operador válido, execute o programa novamente.')\n",
        "\n",
        "    # Adicione a função again () à função calcule ()    again()\n",
        "\n",
        "    again()\n",
        "\n",
        "def again():\n",
        "    calc_again = input('''\n",
        "Você quer calcular novamente? \n",
        "Digite Y para SIM ou N para NÃO.\n",
        "''')\n",
        "\n",
        "    if calc_again.upper() == 'Y':\n",
        "        calculate()\n",
        "    elif calc_again.upper() == 'N':\n",
        "        print('Até logo.')\n",
        "    else:\n",
        "        again()\n",
        "\n",
        "calculate()"
      ],
      "execution_count": 61,
      "outputs": [
        {
          "output_type": "stream",
          "text": [
            "\n",
            "Digite a Operação Matematica Que Deseja Realizar:\n",
            "1 para Adição\n",
            "2 para Subtração\n",
            "3 para Multiplicação\n",
            "4 para Divisão\n",
            "5 para Modulo\n",
            "5\n",
            "Por favor insira o primeiro número : 89\n",
            "Por favor insira o segundo número : 5\n",
            "89 % 5 = \n",
            "4\n",
            "\n",
            "Você quer calcular novamente? \n",
            "Digite Y para SIM ou N para NÃO.\n",
            "n\n",
            "Até logo.\n"
          ],
          "name": "stdout"
        }
      ]
    }
  ]
}