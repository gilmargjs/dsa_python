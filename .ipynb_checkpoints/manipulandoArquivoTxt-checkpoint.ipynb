{
 "cells": [
  {
   "cell_type": "code",
   "execution_count": 1,
   "id": "indian-pursuit",
   "metadata": {},
   "outputs": [],
   "source": [
    "texto = \"cientista de dados é a profissão que mais tem crescido em todo o mundo. \\n\"\n",
    "texto = texto + \"esses proficionais precisam se espacializar em programação,estatistica e Machine learning. \\n\"\n",
    "texto += \"e claro, em Big Data.\""
   ]
  },
  {
   "cell_type": "code",
   "execution_count": 2,
   "id": "golden-mechanics",
   "metadata": {
    "scrolled": true
   },
   "outputs": [
    {
     "name": "stdout",
     "output_type": "stream",
     "text": [
      "cientista de dados é a profissão que mais tem crescido em todo o mundo. \n",
      "esses proficionais precisam se espacializar em programação,estatistica e Machine learning. \n",
      "e claro, em Big Data.\n"
     ]
    }
   ],
   "source": [
    "print(texto)"
   ]
  },
  {
   "cell_type": "code",
   "execution_count": 3,
   "id": "favorite-given",
   "metadata": {},
   "outputs": [],
   "source": [
    "#importando o modulo os\n",
    "import os"
   ]
  },
  {
   "cell_type": "code",
   "execution_count": 4,
   "id": "opposed-abuse",
   "metadata": {},
   "outputs": [],
   "source": [
    "#criando um arquivo\n",
    "arquivo = open(os.path.join('cientista.txt'),'w')"
   ]
  },
  {
   "cell_type": "code",
   "execution_count": 5,
   "id": "encouraging-picking",
   "metadata": {},
   "outputs": [],
   "source": [
    "#gravando os dados no arquivo\n",
    "for palavra in texto.split():\n",
    "    arquivo.write(palavra+'')"
   ]
  },
  {
   "cell_type": "code",
   "execution_count": 6,
   "id": "fatty-insured",
   "metadata": {},
   "outputs": [],
   "source": [
    "arquivo.close()"
   ]
  },
  {
   "cell_type": "code",
   "execution_count": 7,
   "id": "otherwise-custom",
   "metadata": {},
   "outputs": [],
   "source": [
    "arquivo = open('cientista.txt','r')"
   ]
  },
  {
   "cell_type": "code",
   "execution_count": 8,
   "id": "innovative-recruitment",
   "metadata": {},
   "outputs": [
    {
     "name": "stdout",
     "output_type": "stream",
     "text": [
      "cientistadedadoséaprofissãoquemaistemcrescidoemtodoomundo.essesproficionaisprecisamseespacializaremprogramação,estatisticaeMachinelearning.eclaro,emBigData.\n"
     ]
    }
   ],
   "source": [
    "print(arquivo.read())"
   ]
  }
 ],
 "metadata": {
  "kernelspec": {
   "display_name": "Python 3",
   "language": "python",
   "name": "python3"
  },
  "language_info": {
   "codemirror_mode": {
    "name": "ipython",
    "version": 3
   },
   "file_extension": ".py",
   "mimetype": "text/x-python",
   "name": "python",
   "nbconvert_exporter": "python",
   "pygments_lexer": "ipython3",
   "version": "3.9.1"
  }
 },
 "nbformat": 4,
 "nbformat_minor": 5
}
