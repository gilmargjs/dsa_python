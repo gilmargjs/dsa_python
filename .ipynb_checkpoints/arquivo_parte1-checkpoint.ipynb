{
 "cells": [
  {
   "cell_type": "raw",
   "id": "perceived-happiness",
   "metadata": {},
   "source": []
  },
  {
   "cell_type": "code",
   "execution_count": 1,
   "id": "hawaiian-arnold",
   "metadata": {},
   "outputs": [],
   "source": [
    "#abrindo o arquivo arquivo1.txt para leitura\n",
    "arq1 = open(\"arquivo1.txt\",\"r\")#para  leitura usa-se o \"r\""
   ]
  },
  {
   "cell_type": "code",
   "execution_count": 2,
   "id": "willing-upset",
   "metadata": {},
   "outputs": [
    {
     "name": "stdout",
     "output_type": "stream",
     "text": [
      "Testando gravação de Arquivos em pythonAcrecentando conteúdo\n"
     ]
    }
   ],
   "source": [
    "#lendo o arquivo arq1\n",
    "print(arq1.read())"
   ]
  },
  {
   "cell_type": "code",
   "execution_count": 3,
   "id": "intended-toronto",
   "metadata": {},
   "outputs": [
    {
     "name": "stdout",
     "output_type": "stream",
     "text": [
      "63\n"
     ]
    }
   ],
   "source": [
    "# contando o número de caracteres\n",
    "\n",
    "print(arq1.tell())"
   ]
  },
  {
   "cell_type": "code",
   "execution_count": 4,
   "id": "governmental-talent",
   "metadata": {},
   "outputs": [
    {
     "name": "stdout",
     "output_type": "stream",
     "text": [
      "0\n"
     ]
    }
   ],
   "source": [
    "#passando para o inicio\n",
    "\n",
    "print(arq1.seek(0,0))"
   ]
  },
  {
   "cell_type": "code",
   "execution_count": 5,
   "id": "possible-savage",
   "metadata": {},
   "outputs": [
    {
     "name": "stdout",
     "output_type": "stream",
     "text": [
      "Testando g\n"
     ]
    }
   ],
   "source": [
    "#abrindo os 10 primeiros caracteres \n",
    "print(arq1.read(10))"
   ]
  },
  {
   "cell_type": "code",
   "execution_count": 6,
   "id": "political-palestinian",
   "metadata": {},
   "outputs": [],
   "source": [
    "#abrindo o arquivo arquivo1.txt para escrita\n",
    "arq2 = open(\"arquivo1.txt\",\"w\")#para escrita usa-se o \"w\""
   ]
  },
  {
   "cell_type": "code",
   "execution_count": 7,
   "id": "resident-peripheral",
   "metadata": {},
   "outputs": [
    {
     "data": {
      "text/plain": [
       "39"
      ]
     },
     "execution_count": 7,
     "metadata": {},
     "output_type": "execute_result"
    }
   ],
   "source": [
    "#gravando arquivo\n",
    "arq2.write(\"Testando gravação de Arquivos em python\")"
   ]
  },
  {
   "cell_type": "code",
   "execution_count": 8,
   "id": "alternative-comment",
   "metadata": {},
   "outputs": [],
   "source": [
    "#fechando o arquivo\n",
    "arq2.close()"
   ]
  },
  {
   "cell_type": "code",
   "execution_count": 9,
   "id": "protecting-abortion",
   "metadata": {},
   "outputs": [],
   "source": [
    "#abrindo o arquivo\n",
    "arq2 = open('arquivo1.txt',\"r\")"
   ]
  },
  {
   "cell_type": "code",
   "execution_count": 10,
   "id": "endless-entity",
   "metadata": {},
   "outputs": [
    {
     "data": {
      "text/plain": [
       "'Testando gravação de Arquivos em python'"
      ]
     },
     "execution_count": 10,
     "metadata": {},
     "output_type": "execute_result"
    }
   ],
   "source": [
    "#lendo o arquivo\n",
    "arq2.read()"
   ]
  },
  {
   "cell_type": "code",
   "execution_count": 11,
   "id": "moral-blink",
   "metadata": {},
   "outputs": [],
   "source": [
    "#acrecentando conteúdo\n",
    "arq2 = open(\"arquivo1.txt\",\"a\")"
   ]
  },
  {
   "cell_type": "code",
   "execution_count": 12,
   "id": "close-backup",
   "metadata": {},
   "outputs": [
    {
     "data": {
      "text/plain": [
       "23"
      ]
     },
     "execution_count": 12,
     "metadata": {},
     "output_type": "execute_result"
    }
   ],
   "source": [
    "#escrevendo o conteudo\n",
    "arq2.write(\" Acrecentando conteúdo \")"
   ]
  },
  {
   "cell_type": "code",
   "execution_count": 13,
   "id": "stuck-title",
   "metadata": {},
   "outputs": [],
   "source": [
    "#abrindo o arquivo para leitura\n",
    "arq2 = open(\"arquivo1.txt\",\"r\")"
   ]
  },
  {
   "cell_type": "code",
   "execution_count": 14,
   "id": "animal-raleigh",
   "metadata": {},
   "outputs": [
    {
     "name": "stdout",
     "output_type": "stream",
     "text": [
      "Testando gravação de Arquivos em python Acrecentando conteúdo \n"
     ]
    }
   ],
   "source": [
    "#lendo o arquivo\n",
    "print(arq2.read())\n"
   ]
  },
  {
   "cell_type": "code",
   "execution_count": 15,
   "id": "appreciated-floating",
   "metadata": {},
   "outputs": [
    {
     "data": {
      "text/plain": [
       "0"
      ]
     },
     "execution_count": 15,
     "metadata": {},
     "output_type": "execute_result"
    }
   ],
   "source": [
    "#voltar ao inicio do arquivo\n",
    "arq2.seek(0,0)"
   ]
  },
  {
   "cell_type": "raw",
   "id": "entitled-leadership",
   "metadata": {},
   "source": []
  }
 ],
 "metadata": {
  "kernelspec": {
   "display_name": "Python 3",
   "language": "python",
   "name": "python3"
  },
  "language_info": {
   "codemirror_mode": {
    "name": "ipython",
    "version": 3
   },
   "file_extension": ".py",
   "mimetype": "text/x-python",
   "name": "python",
   "nbconvert_exporter": "python",
   "pygments_lexer": "ipython3",
   "version": "3.9.1"
  }
 },
 "nbformat": 4,
 "nbformat_minor": 5
}
