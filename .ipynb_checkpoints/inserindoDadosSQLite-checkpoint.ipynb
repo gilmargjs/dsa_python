{
 "cells": [
  {
   "cell_type": "code",
   "execution_count": 1,
   "metadata": {},
   "outputs": [],
   "source": [
    "#remove o arquivo com o banco de dados SQL(se esxistir)\n",
    "import os\n",
    "os.remove(\"dsa.db\")if os.path.exists(\"dsa.db\")else None"
   ]
  },
  {
   "cell_type": "code",
   "execution_count": 7,
   "metadata": {},
   "outputs": [],
   "source": [
    "#importando banco de dados sqllit3\n",
    "import sqlite3                    \n",
    "\n",
    "#criando uma conexão\n",
    "conn = sqlite3.connect(\"Documentos\\dsa.db\")  \n",
    "\n",
    "#criando o cursor\n",
    "c = conn.cursor()                 \n",
    "\n",
    "#Função para criar uma tabela\n",
    "def create_table():\n",
    "    c.execute('CREATE TABLE IF NOT EXISTS produtos(id INTEGER PRIMARY KEY AUTOINCREMENT NOT NULL,date TEXT,'\\\n",
    "              'prod_name TEXT, valor REAL)')#criar tabela (produtos id inteiro chave primaria autoincremento \n",
    "                                            # não pode ter valor nulo se não existir \n",
    "\n",
    "#fFunção para inserir uma linha\n",
    "def data_insert():\n",
    "    c.execute(\"INSERT INTO produtos VALUES(10, '2018-05-02 14:32','teclado',90)\")#passando valores na tabela\n",
    "    conn.commit()#gravando a função\n",
    "    c.close()    #enserrando o cursor\n",
    "    conn.close() #enserrando a conexão"
   ]
  },
  {
   "cell_type": "code",
   "execution_count": 8,
   "metadata": {},
   "outputs": [],
   "source": [
    "#criando tabela tabela\n",
    "create_table()#chamando a função para criar a tabela"
   ]
  },
  {
   "cell_type": "code",
   "execution_count": 9,
   "metadata": {},
   "outputs": [],
   "source": [
    "#inserir dados\n",
    "data_insert()#chamando a Função para inserir dados"
   ]
  },
  {
   "cell_type": "code",
   "execution_count": null,
   "metadata": {},
   "outputs": [],
   "source": [
    "resset = [(1000,'ciencia de dados ','data cience'),\n",
    "         (1001,'algoritmo','curso em video'),\n",
    "         (1002,'javascript','origamid')]"
   ]
  },
  {
   "cell_type": "code",
   "execution_count": null,
   "metadata": {},
   "outputs": [],
   "source": []
  },
  {
   "cell_type": "code",
   "execution_count": null,
   "metadata": {},
   "outputs": [],
   "source": []
  }
 ],
 "metadata": {
  "kernelspec": {
   "display_name": "Python 3",
   "language": "python",
   "name": "python3"
  },
  "language_info": {
   "codemirror_mode": {
    "name": "ipython",
    "version": 3
   },
   "file_extension": ".py",
   "mimetype": "text/x-python",
   "name": "python",
   "nbconvert_exporter": "python",
   "pygments_lexer": "ipython3",
   "version": "3.8.5"
  }
 },
 "nbformat": 4,
 "nbformat_minor": 4
}
