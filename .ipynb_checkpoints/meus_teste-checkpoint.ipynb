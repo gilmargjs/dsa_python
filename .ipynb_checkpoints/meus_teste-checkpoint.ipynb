{
 "cells": [
  {
   "cell_type": "code",
   "execution_count": 1,
   "metadata": {
    "scrolled": true
   },
   "outputs": [
    {
     "name": "stdout",
     "output_type": "stream",
     "text": [
      "0\n",
      "1\n",
      "2\n",
      "3\n",
      "4\n",
      "5\n",
      "6\n",
      "7\n",
      "8\n",
      "9\n"
     ]
    }
   ],
   "source": [
    "c = 0\n",
    "while(c < 10):\n",
    "    print(c)\n",
    "    c+=1"
   ]
  },
  {
   "cell_type": "code",
   "execution_count": null,
   "metadata": {},
   "outputs": [],
   "source": [
    "def menu():\n",
    "    opcao = input(''' \n",
    "=============================================\n",
    "           PROJETO AGENDA EM PYTHON\n",
    "MENU:\n",
    "    \n",
    "[1]CADASTRAR CONTATO\n",
    "[2]LISTAR CONTATO\n",
    "[3]DELETAR CONTATO\n",
    "[4]BUSCAR CONTATO PELO ID\n",
    "=============================================\n",
    "ESCOLHA UMA OPÇÃO ACIMA:\n",
    "''')\n",
    "\n",
    "    if opcao == \"1\":\n",
    "        cadastrarContato()\n",
    "    elif opcao == \"2\":\n",
    "        listarContato()\n",
    "    elif opcao == \"3\":\n",
    "        deletarContato()\n",
    "    elif opcao == \"4\":\n",
    "        buscarContatoPeloNome()\n",
    "    elif opcao == \"5\":\n",
    "        print(f'Você saiu do Programa....!!!!')\n",
    "\n",
    "        exit()\n",
    "    else:\n",
    "        print(f'Valor Não Está na Lista')\n",
    "\n",
    "def cadastrarContato():\n",
    "    idContato = input(\"Escolha o ID do Contato: \")\n",
    "    nome = input(\"Digite o Nome do Conatato: \")\n",
    "    telefone = input(\"Digite o Telefone do Contato: \")\n",
    "    email = input(\"Digite um Email Valido: \")\n",
    "    agenda = open('agenda.txt','a')\n",
    "    agenda.write(f'{idContato},{nome},{telefone},{email}')#gravando dados no arquivo agenda.txt\n",
    "    agenda.close()                                        #OBS: É NECESSARIO ESTAR ENTRE CHAVES\n",
    "    \n",
    "    \n",
    "def main():\n",
    "    menu()\n",
    "\n",
    "\n",
    "main()"
   ]
  },
  {
   "cell_type": "code",
   "execution_count": null,
   "metadata": {},
   "outputs": [],
   "source": [
    "C = 0\n",
    "while(c < 100):\n",
    "print(c)\n",
    "c+=1\n"
   ]
  },
  {
   "cell_type": "code",
   "execution_count": null,
   "metadata": {},
   "outputs": [],
   "source": []
  },
  {
   "cell_type": "code",
   "execution_count": null,
   "metadata": {},
   "outputs": [],
   "source": []
  },
  {
   "cell_type": "code",
   "execution_count": null,
   "metadata": {},
   "outputs": [],
   "source": []
  }
 ],
 "metadata": {
  "kernelspec": {
   "display_name": "Python 3",
   "language": "python",
   "name": "python3"
  },
  "language_info": {
   "codemirror_mode": {
    "name": "ipython",
    "version": 3
   },
   "file_extension": ".py",
   "mimetype": "text/x-python",
   "name": "python",
   "nbconvert_exporter": "python",
   "pygments_lexer": "ipython3",
   "version": "3.8.5"
  }
 },
 "nbformat": 4,
 "nbformat_minor": 4
}
