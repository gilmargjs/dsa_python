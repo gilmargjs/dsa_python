{
 "cells": [
  {
   "cell_type": "code",
   "execution_count": 1,
   "metadata": {},
   "outputs": [
    {
     "name": "stdout",
     "output_type": "stream",
     "text": [
      "Digite o Valor do Salário Bruto! 1719\n",
      "Digite a Quantidade de Dias de Sabado! 2\n",
      "Digite a Quantidade de Dias de Domingo! 0\n",
      "187.52727272727273\n"
     ]
    }
   ],
   "source": [
    "#calculo das horas extras trabalhadas\n",
    "import cx_Freeze\n",
    "sal = float(input(\"Digite o Valor do Salário Bruto! \"))\n",
    "dias_sab = int(input(\"Digite a Quantidade de Dias de Sabado! \"))\n",
    "dias_dom = int(input(\"Digite a Quantidade de Dias de Domingo! \"))\n",
    "\n",
    "cal_sabado = sal / 220 * 8 * 1.5\n",
    "cal_domingo = sal / 220 * 8 * 2\n",
    "\n",
    "sabado = dias_sab * cal_sabado\n",
    "domingo = dias_dom * cal_domingo\n",
    "\n",
    "total = sabado + domingo\n",
    "print(total)"
   ]
  },
  {
   "cell_type": "code",
   "execution_count": null,
   "metadata": {},
   "outputs": [],
   "source": []
  }
 ],
 "metadata": {
  "kernelspec": {
   "display_name": "Python 3",
   "language": "python",
   "name": "python3"
  },
  "language_info": {
   "codemirror_mode": {
    "name": "ipython",
    "version": 3
   },
   "file_extension": ".py",
   "mimetype": "text/x-python",
   "name": "python",
   "nbconvert_exporter": "python",
   "pygments_lexer": "ipython3",
   "version": "3.8.5"
  }
 },
 "nbformat": 4,
 "nbformat_minor": 4
}
