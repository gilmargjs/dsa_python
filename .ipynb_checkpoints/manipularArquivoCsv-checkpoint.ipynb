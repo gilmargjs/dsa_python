{
 "cells": [
  {
   "cell_type": "code",
   "execution_count": 1,
   "id": "dried-amsterdam",
   "metadata": {},
   "outputs": [],
   "source": [
    "#inportando o modulo csv\n",
    "import csv"
   ]
  },
  {
   "cell_type": "code",
   "execution_count": 2,
   "id": "eight-gothic",
   "metadata": {},
   "outputs": [],
   "source": [
    "#abrir o documento como escrita obs: se nõa existir o documneto será criado altomaticamente\n",
    "with open('numeros.csv','w') as arquivo:#com o arquivo aberto para escrita como arquivo\n",
    "    writer = csv.writer(arquivo)\n",
    "    writer.writerow(('primeira','segunda','terceira'))#escrevendo na linha\n",
    "    writer.writerow((55,93,76))         \n",
    "    writer.writerow((62,14,86))"
   ]
  },
  {
   "cell_type": "code",
   "execution_count": 3,
   "id": "seven-sentence",
   "metadata": {},
   "outputs": [
    {
     "name": "stdout",
     "output_type": "stream",
     "text": [
      "números de colunas: 3\n",
      "['primeira', 'segunda', 'terceira']\n",
      "números de colunas: 3\n",
      "['55', '93', '76']\n",
      "números de colunas: 3\n",
      "['62', '14', '86']\n"
     ]
    }
   ],
   "source": [
    "#leitura de arquivo csv\n",
    "with open('numeros.csv','r') as arquivo:#com o arquivo aberto para leitura como arquivo\n",
    "    leitor = csv.reader(arquivo)#acrecentando o arquivo em uma variavel\n",
    "    for x in leitor:            #laço no arquivo leitor\n",
    "        print('números de colunas:',len(x))\n",
    "        print(x)"
   ]
  },
  {
   "cell_type": "code",
   "execution_count": 4,
   "id": "previous-blackjack",
   "metadata": {},
   "outputs": [
    {
     "name": "stdout",
     "output_type": "stream",
     "text": [
      "[['primeira', 'segunda', 'terceira'], ['55', '93', '76'], ['62', '14', '86']]\n"
     ]
    }
   ],
   "source": [
    "#gerando uma lista com dados do arquivo csv\n",
    "with open('numeros.csv','r')as arquivo:\n",
    "    leitor = csv.reader(arquivo)#arquivo csv aberto e salvo na variavel leitor\n",
    "    dados = list(leitor)#convetendo o arquivo em lista\n",
    "    print(dados)"
   ]
  },
  {
   "cell_type": "code",
   "execution_count": 5,
   "id": "cellular-baltimore",
   "metadata": {},
   "outputs": [
    {
     "ename": "IndentationError",
     "evalue": "expected an indented block (<ipython-input-5-b15474f4d556>, line 3)",
     "output_type": "error",
     "traceback": [
      "\u001b[0;36m  File \u001b[0;32m\"<ipython-input-5-b15474f4d556>\"\u001b[0;36m, line \u001b[0;32m3\u001b[0m\n\u001b[0;31m    print(linha)\u001b[0m\n\u001b[0m    ^\u001b[0m\n\u001b[0;31mIndentationError\u001b[0m\u001b[0;31m:\u001b[0m expected an indented block\n"
     ]
    }
   ],
   "source": [
    "#imprimindo a partir da segunda linha\n",
    "for linha in dados[1:]:\n",
    "    print(linha)"
   ]
  }
 ],
 "metadata": {
  "kernelspec": {
   "display_name": "Python 3",
   "language": "python",
   "name": "python3"
  },
  "language_info": {
   "codemirror_mode": {
    "name": "ipython",
    "version": 3
   },
   "file_extension": ".py",
   "mimetype": "text/x-python",
   "name": "python",
   "nbconvert_exporter": "python",
   "pygments_lexer": "ipython3",
   "version": "3.9.1"
  }
 },
 "nbformat": 4,
 "nbformat_minor": 5
}
