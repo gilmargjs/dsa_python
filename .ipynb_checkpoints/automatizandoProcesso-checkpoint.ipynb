{
 "cells": [
  {
   "cell_type": "code",
   "execution_count": 1,
   "id": "advance-psychology",
   "metadata": {},
   "outputs": [
    {
     "name": "stdout",
     "output_type": "stream",
     "text": [
      "Digite o nome do arquivo:teste\n"
     ]
    }
   ],
   "source": [
    "#automatizando o processo de gravação\n",
    "#é pedido ao usuario o nome do arquivo\n",
    "fileName = input(\"Digite o nome do arquivo:\")"
   ]
  },
  {
   "cell_type": "code",
   "execution_count": 2,
   "id": "protected-stocks",
   "metadata": {},
   "outputs": [],
   "source": [
    "#fileName recebe o nome digitado e concatendo com a extenção do arquivo\n",
    "fileName = fileName + \".txt\""
   ]
  },
  {
   "cell_type": "code",
   "execution_count": 3,
   "id": "periodic-senior",
   "metadata": {},
   "outputs": [],
   "source": [
    "#arq3 recebe o arquivo aberto para escrita\n",
    "arq3 = open(fileName, \"w\")"
   ]
  },
  {
   "cell_type": "code",
   "execution_count": 4,
   "id": "cellular-entrepreneur",
   "metadata": {},
   "outputs": [
    {
     "data": {
      "text/plain": [
       "34"
      ]
     },
     "execution_count": 4,
     "metadata": {},
     "output_type": "execute_result"
    }
   ],
   "source": [
    "#write inclui conteudo dentro do arquivo\n",
    "arq3.write(\"Incluindo  texto no arquivo criado\")"
   ]
  },
  {
   "cell_type": "code",
   "execution_count": 5,
   "id": "remarkable-horror",
   "metadata": {},
   "outputs": [],
   "source": [
    "#arquivo fechado\n",
    "arq3.close()"
   ]
  },
  {
   "cell_type": "code",
   "execution_count": 6,
   "id": "chemical-necklace",
   "metadata": {},
   "outputs": [],
   "source": [
    "#arquivo aberto para leitura\n",
    "arq3 = open(fileName, \"r\")\n"
   ]
  },
  {
   "cell_type": "code",
   "execution_count": 7,
   "id": "sunset-unemployment",
   "metadata": {},
   "outputs": [
    {
     "name": "stdout",
     "output_type": "stream",
     "text": [
      "<_io.TextIOWrapper name='teste.txt' mode='r' encoding='UTF-8'>\n"
     ]
    }
   ],
   "source": [
    "print(arq3.read())"
   ]
  }
 ],
 "metadata": {
  "kernelspec": {
   "display_name": "Python 3",
   "language": "python",
   "name": "python3"
  },
  "language_info": {
   "codemirror_mode": {
    "name": "ipython",
    "version": 3
   },
   "file_extension": ".py",
   "mimetype": "text/x-python",
   "name": "python",
   "nbconvert_exporter": "python",
   "pygments_lexer": "ipython3",
   "version": "3.9.1"
  }
 },
 "nbformat": 4,
 "nbformat_minor": 5
}
