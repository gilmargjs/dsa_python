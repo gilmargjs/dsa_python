{
 "cells": [
  {
   "cell_type": "code",
   "execution_count": 1,
   "id": "damaged-keeping",
   "metadata": {},
   "outputs": [],
   "source": [
    "##########\n",
    "# dividindo um dataset em colunas\n",
    "# f recebe o arquivo aberto no modo leitura\n",
    "\n",
    "f = open('salario.csv', 'r')"
   ]
  },
  {
   "cell_type": "code",
   "execution_count": 2,
   "id": "accessible-trash",
   "metadata": {},
   "outputs": [],
   "source": [
    "#data recebe o arquivo para leitura\n",
    "data = f.read()"
   ]
  },
  {
   "cell_type": "code",
   "execution_count": 3,
   "id": "verbal-split",
   "metadata": {},
   "outputs": [],
   "source": [
    "# rows recebe o arquivo data dividido por quebra de linha ou enter\n",
    "#split() é um metodo para quebra as strings no exemplo em cada virgula encontrada  \n",
    "rows = data.split('\\n')"
   ]
  },
  {
   "cell_type": "code",
   "execution_count": 4,
   "id": "preceding-initial",
   "metadata": {},
   "outputs": [],
   "source": [
    "#full_data recebe uma lista vazia\n",
    "\n",
    "full_data = []"
   ]
  },
  {
   "cell_type": "code",
   "execution_count": 5,
   "id": "premium-trust",
   "metadata": {},
   "outputs": [],
   "source": [
    "#laço for no arquivo rows\n",
    "#split_row recebe cada row divido por virgula\n",
    "# a lista vazia full_data recebe o split_row ou seja o valor de split_row é colocado dentro de full_data\n",
    "for row in rows:\n",
    "    split_row = row.split(\",\")\n",
    "    full_data.append(split_row)"
   ]
  },
  {
   "cell_type": "code",
   "execution_count": 6,
   "id": "smoking-current",
   "metadata": {},
   "outputs": [
    {
     "ename": "IndentationError",
     "evalue": "unexpected indent (<ipython-input-6-dc20fcb462d1>, line 2)",
     "output_type": "error",
     "traceback": [
      "\u001b[0;36m  File \u001b[0;32m\"<ipython-input-6-dc20fcb462d1>\"\u001b[0;36m, line \u001b[0;32m2\u001b[0m\n\u001b[0;31m    for row in full_data:\u001b[0m\n\u001b[0m    ^\u001b[0m\n\u001b[0;31mIndentationError\u001b[0m\u001b[0;31m:\u001b[0m unexpected indent\n"
     ]
    }
   ],
   "source": [
    "count = 0\n",
    "for row in full_data:\n",
    "    count += 1"
   ]
  },
  {
   "cell_type": "code",
   "execution_count": null,
   "id": "becoming-malta",
   "metadata": {},
   "outputs": [],
   "source": [
    "print(count)"
   ]
  }
 ],
 "metadata": {
  "kernelspec": {
   "display_name": "Python 3",
   "language": "python",
   "name": "python3"
  },
  "language_info": {
   "codemirror_mode": {
    "name": "ipython",
    "version": 3
   },
   "file_extension": ".py",
   "mimetype": "text/x-python",
   "name": "python",
   "nbconvert_exporter": "python",
   "pygments_lexer": "ipython3",
   "version": "3.9.1"
  }
 },
 "nbformat": 4,
 "nbformat_minor": 5
}
