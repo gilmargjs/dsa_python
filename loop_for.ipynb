{
 "cells": [
  {
   "cell_type": "code",
   "execution_count": 1,
   "metadata": {},
   "outputs": [
    {
     "name": "stdout",
     "output_type": "stream",
     "text": [
      "[2, 3, 4]\n"
     ]
    }
   ],
   "source": [
    "#inserindo o valor de tp em li\n",
    "li = []\n",
    "tp = (2,3,4)\n",
    "for i in tp:\n",
    "    li.append(i)\n",
    "print(li)"
   ]
  },
  {
   "cell_type": "code",
   "execution_count": 2,
   "metadata": {},
   "outputs": [
    {
     "name": "stdout",
     "output_type": "stream",
     "text": [
      "casa\n",
      "carro\n",
      "barco\n",
      "navio\n"
     ]
    }
   ],
   "source": [
    "#contador no range de 0 até 5\n",
    "lt = ['casa','carro','barco','navio']\n",
    "for contador in range(0,4):\n",
    "        print(lt[contador])"
   ]
  },
  {
   "cell_type": "code",
   "execution_count": 3,
   "metadata": {},
   "outputs": [
    {
     "name": "stdout",
     "output_type": "stream",
     "text": [
      "1\n",
      "3\n",
      "5\n",
      "7\n",
      "9\n"
     ]
    }
   ],
   "source": [
    "#impressão dos numeros impares\n",
    "lista = [1,2,3,4,5,6,7,8,9,10]\n",
    "for num in lista:\n",
    "    if num % 2 == 1:\n",
    "        print(num)"
   ]
  },
  {
   "cell_type": "code",
   "execution_count": 4,
   "metadata": {},
   "outputs": [
    {
     "name": "stdout",
     "output_type": "stream",
     "text": [
      "0\n",
      "2\n",
      "4\n",
      "6\n",
      "8\n",
      "10\n",
      "12\n",
      "14\n",
      "16\n",
      "18\n",
      "20\n",
      "22\n",
      "24\n",
      "26\n",
      "28\n",
      "30\n",
      "32\n",
      "34\n",
      "36\n",
      "38\n",
      "40\n",
      "42\n",
      "44\n",
      "46\n",
      "48\n",
      "50\n"
     ]
    }
   ],
   "source": [
    "#imprimindo os valores de 0 até 51 exclusivo de 2 em 2\n",
    "for b in range(0,51,2):\n",
    "    print(b)"
   ]
  },
  {
   "cell_type": "code",
   "execution_count": 5,
   "metadata": {},
   "outputs": [
    {
     "name": "stdout",
     "output_type": "stream",
     "text": [
      "e\n",
      "u\n",
      " \n",
      "s\n",
      "o\n",
      "u\n",
      " \n",
      "u\n",
      "m\n",
      " \n",
      "s\n",
      "e\n",
      "r\n",
      "v\n",
      "o\n",
      " \n",
      "d\n",
      "e\n",
      " \n",
      "D\n",
      "e\n",
      "u\n",
      "s\n"
     ]
    }
   ],
   "source": [
    "for caracter in 'eu sou um servo de Deus':\n",
    "        print(caracter)"
   ]
  },
  {
   "cell_type": "code",
   "execution_count": 6,
   "metadata": {},
   "outputs": [
    {
     "name": "stdout",
     "output_type": "stream",
     "text": [
      "0\n",
      "1\n",
      "2\n",
      "3\n",
      "4\n",
      "0\n",
      "1\n",
      "2\n",
      "3\n",
      "4\n",
      "0\n",
      "1\n",
      "2\n",
      "3\n",
      "4\n",
      "0\n",
      "1\n",
      "2\n",
      "3\n",
      "4\n",
      "0\n",
      "1\n",
      "2\n",
      "3\n",
      "4\n"
     ]
    }
   ],
   "source": [
    "#loop aninhado\n",
    "for i in range(0,5):\n",
    "    for a in range(0,5):\n",
    "        print(a)"
   ]
  },
  {
   "cell_type": "code",
   "execution_count": 7,
   "metadata": {},
   "outputs": [
    {
     "name": "stdout",
     "output_type": "stream",
     "text": [
      "aqui é double24\n",
      "aqui é double112\n",
      "aqui é double196\n",
      "aqui é double136\n",
      "aqui é double72\n",
      "aqui é double96\n",
      "aqui é double34\n",
      "aqui é soma670\n"
     ]
    }
   ],
   "source": [
    "lista = [12,56,98,68,36,48,17]\n",
    "soma = 0\n",
    "for i in lista:\n",
    "    double = i * 2\n",
    "    soma += double\n",
    "    print(f'aqui é double{double}')\n",
    "print(f'aqui é soma{soma}')"
   ]
  },
  {
   "cell_type": "code",
   "execution_count": 8,
   "metadata": {},
   "outputs": [
    {
     "name": "stdout",
     "output_type": "stream",
     "text": [
      "[1, 2, 3]\n",
      "[10, 15, 14]\n",
      "[10.1, 8.7, 2.3]\n"
     ]
    }
   ],
   "source": [
    "lista = [[1,2,3],[10,15,14],[10.1,8.7,2.3]]\n",
    "for valor in lista:\n",
    "    print(valor)"
   ]
  },
  {
   "cell_type": "code",
   "execution_count": 13,
   "metadata": {},
   "outputs": [
    {
     "name": "stdout",
     "output_type": "stream",
     "text": [
      "1\n",
      "2\n",
      "3\n",
      "4\n",
      "5\n",
      "6\n",
      "7\n",
      "8\n",
      "9\n",
      "10\n"
     ]
    }
   ],
   "source": [
    "#contar os itens\n",
    "lista = ['g','g','g','g','i','i','i','l','l','l']\n",
    "count = 0\n",
    "for item in lista:\n",
    "    count+= 1\n",
    "    print(count)"
   ]
  },
  {
   "cell_type": "code",
   "execution_count": 21,
   "metadata": {},
   "outputs": [
    {
     "name": "stdout",
     "output_type": "stream",
     "text": [
      "eu\n",
      "tu\n",
      "ele\n"
     ]
    }
   ],
   "source": [
    "#imprimindo as chave de um dicionário \n",
    "dic = {'eu':'gilmar','tu':'mulher','ele':'filho'}\n",
    "for item in dic:\n",
    "    print(item)"
   ]
  },
  {
   "cell_type": "code",
   "execution_count": 24,
   "metadata": {},
   "outputs": [
    {
     "name": "stdout",
     "output_type": "stream",
     "text": [
      "eu gilmar\n",
      "tu mulher\n",
      "ele filho\n"
     ]
    }
   ],
   "source": [
    "#imprimindo chave e valor do dicionário.\n",
    "for k,v in dic.items():\n",
    "    print(k,v)"
   ]
  },
  {
   "cell_type": "code",
   "execution_count": null,
   "metadata": {},
   "outputs": [],
   "source": []
  }
 ],
 "metadata": {
  "kernelspec": {
   "display_name": "Python 3",
   "language": "python",
   "name": "python3"
  },
  "language_info": {
   "codemirror_mode": {
    "name": "ipython",
    "version": 3
   },
   "file_extension": ".py",
   "mimetype": "text/x-python",
   "name": "python",
   "nbconvert_exporter": "python",
   "pygments_lexer": "ipython3",
   "version": "3.8.5"
  }
 },
 "nbformat": 4,
 "nbformat_minor": 4
}
