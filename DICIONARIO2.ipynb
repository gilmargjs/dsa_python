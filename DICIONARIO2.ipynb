{
  "nbformat": 4,
  "nbformat_minor": 0,
  "metadata": {
    "colab": {
      "name": "DICIONARIO2.ipynb",
      "provenance": [],
      "collapsed_sections": [],
      "authorship_tag": "ABX9TyNZzCYCES9+ajgkwjF7h/lX",
      "include_colab_link": true
    },
    "kernelspec": {
      "name": "python3",
      "display_name": "Python 3"
    },
    "language_info": {
      "name": "python"
    }
  },
  "cells": [
    {
      "cell_type": "markdown",
      "metadata": {
        "id": "view-in-github",
        "colab_type": "text"
      },
      "source": [
        "<a href=\"https://colab.research.google.com/github/gilmargjs/dsa_python/blob/main/DICIONARIO2.ipynb\" target=\"_parent\"><img src=\"https://colab.research.google.com/assets/colab-badge.svg\" alt=\"Open In Colab\"/></a>"
      ]
    },
    {
      "cell_type": "code",
      "metadata": {
        "colab": {
          "base_uri": "https://localhost:8080/"
        },
        "id": "iFGPwA4zwSTx",
        "outputId": "b2fd190c-57d5-4340-b7de-ef0b75103814"
      },
      "source": [
        "#criando dicionario\n",
        "dic = {'JEFFERSON':15,'JONAS':10,'GILMAX':2}\n",
        "#imprimir dicionario\n",
        "dic\n",
        "#adicionando valor em dicionario\n",
        "dic['gimar']=42\n",
        "dic\n",
        "#trocando valor do dicionario\n",
        "dic['gimar']='topografo'\n",
        "dic\n",
        "#extraindo só as chaves\n",
        "dic.keys()\n",
        "#extraindo só os valores\n",
        "dic.values()\n",
        "#EXTRAINDO SÓ OS ITENS\n",
        "dic.items()\n",
        "dic2 = {'manoel':49,'inaldo':50}\n",
        "#update ou seja unir os dois dicionarios\n",
        "dic.update(dic2)\n",
        "dic\n",
        "#dicionario vazio \n",
        "dic3={}\n",
        "#colocando o valor de dic2 em dic3\n",
        "dic3.update(dic2)\n",
        "dic2\n",
        "dic3\n",
        "#criando listas com dados \n",
        "gilmar=['Gilmar Jose da Silva','RUA DAS VIRGES',13,'CPF:02858948785','RG:4855669','PROFISSÃO:TOPOGRAFO']\n",
        "jois=['Jois Maria dos Santos Silva','RUA DAS VIRGES',13,'CPF:02858948785','RG:4855669','PROFISSÃO:TOPOGRAFO']\n",
        "gilmax=['Gilmax José dos Santos Silva','RUA DAS VIRGES',13,'CPF:88899966644','RG:9955544','PROFISSÃO:cadastrador']\n",
        "#criando dicionarios com as listas de dados\n",
        "dic4 = {'gilmar':[gilmar],'jois':[jois],'gilmax':[gilmax]}\n",
        "#busca por posição na lista depois coverter para maiusculo\n",
        "dic4['gilmar'][0][0].upper()\n",
        "dic4.values()\n",
        "dic4['gilmax'][0][1]=\"Rua das Palhas\"\n",
        "dic4['gilmax'][0][1]\n",
        "dic4\n",
        "\n"
      ],
      "execution_count": 53,
      "outputs": [
        {
          "output_type": "execute_result",
          "data": {
            "text/plain": [
              "{'gilmar': [['Gilmar Jose da Silva',\n",
              "   'RUA DAS VIRGES',\n",
              "   13,\n",
              "   'CPF:02858948785',\n",
              "   'RG:4855669',\n",
              "   'PROFISSÃO:TOPOGRAFO']],\n",
              " 'gilmax': [['Gilmax José dos Santos Silva',\n",
              "   'Rua das Palhas',\n",
              "   13,\n",
              "   'CPF:88899966644',\n",
              "   'RG:9955544',\n",
              "   'PROFISSÃO:cadastrador']],\n",
              " 'jois': [['Jois Maria dos Santos Silva',\n",
              "   'RUA DAS VIRGES',\n",
              "   13,\n",
              "   'CPF:02858948785',\n",
              "   'RG:4855669',\n",
              "   'PROFISSÃO:TOPOGRAFO']]}"
            ]
          },
          "metadata": {
            "tags": []
          },
          "execution_count": 53
        }
      ]
    }
  ]
}