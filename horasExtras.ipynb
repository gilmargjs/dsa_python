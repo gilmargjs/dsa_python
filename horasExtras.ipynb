{
 "cells": [
  {
   "cell_type": "code",
   "execution_count": 9,
   "metadata": {},
   "outputs": [
    {
     "ename": "SyntaxError",
     "evalue": "invalid syntax (<ipython-input-9-cc2959297a25>, line 13)",
     "output_type": "error",
     "traceback": [
      "\u001b[0;36m  File \u001b[0;32m\"<ipython-input-9-cc2959297a25>\"\u001b[0;36m, line \u001b[0;32m13\u001b[0m\n\u001b[0;31m    print('Total de Sabados R$ ',sabado.02,'e Domingos R$ ',domingo, 'eo total', total)\u001b[0m\n\u001b[0m                                       ^\u001b[0m\n\u001b[0;31mSyntaxError\u001b[0m\u001b[0;31m:\u001b[0m invalid syntax\n"
     ]
    }
   ],
   "source": [
    "#calculo das horas extras trabalhadas\n",
    "sal = float(input(\"Digite o Valor do Salário Bruto! \"))\n",
    "dias_sab = int(input(\"Digite a Quantidade de Dias de Sabado! \"))\n",
    "dias_dom = int(input(\"Digite a Quantidade de Dias de Domingo! \"))\n",
    "\n",
    "cal_sabado = sal / 220 * 8 * 1.5\n",
    "cal_domingo = sal / 220 * 8 * 2\n",
    "\n",
    "sabado = dias_sab * cal_sabado\n",
    "domingo = dias_dom * cal_domingo\n",
    "\n",
    "total = sabado + domingo\n",
    "print('Total de Sabados R$ ',sabado,'e Domingos R$ ',domingo, 'eo total', total)"
   ]
  },
  {
   "cell_type": "code",
   "execution_count": null,
   "metadata": {},
   "outputs": [],
   "source": []
  }
 ],
 "metadata": {
  "kernelspec": {
   "display_name": "Python 3",
   "language": "python",
   "name": "python3"
  },
  "language_info": {
   "codemirror_mode": {
    "name": "ipython",
    "version": 3
   },
   "file_extension": ".py",
   "mimetype": "text/x-python",
   "name": "python",
   "nbconvert_exporter": "python",
   "pygments_lexer": "ipython3",
   "version": "3.8.5"
  }
 },
 "nbformat": 4,
 "nbformat_minor": 4
}
