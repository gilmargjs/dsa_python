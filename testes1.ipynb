{
 "cells": [
  {
   "cell_type": "code",
   "execution_count": 2,
   "metadata": {},
   "outputs": [
    {
     "name": "stdout",
     "output_type": "stream",
     "text": [
      "['12;122222222;11111111111;2222222\\n', '55555,55555,555555,55555idContato,nome,telefone,email[idContato],[nome],[telefone],[email]5555,5555,666,999']\n"
     ]
    }
   ],
   "source": [
    "pl = open('agenda.txt','r')\n",
    "print(list(pl))"
   ]
  },
  {
   "cell_type": "code",
   "execution_count": 5,
   "metadata": {},
   "outputs": [],
   "source": [
    "lista1 = [['gilmar jose','Rua 15,10','cajueiro','028.233.556-89'],\n",
    "          ['jois Maria','Rua 16, 15','maues','025.555.999-98'],\n",
    "          ['gilmax jose','rua do oiteiro','jardim ipiranga','654.025.465-87'],\n",
    "          ['jonas jose','rua oito, 255','caiçara','656.263.856-21'],\n",
    "          ['jefferson jose','rua da caatinga,45','são pedro','859.562.415-78']]"
   ]
  },
  {
   "cell_type": "code",
   "execution_count": 6,
   "metadata": {},
   "outputs": [
    {
     "name": "stdout",
     "output_type": "stream",
     "text": [
      "['gilmar jose', 'Rua 15,10', 'cajueiro', '028.233.556-89']\n",
      "['jois Maria', 'Rua 16, 15', 'maues', '025.555.999-98']\n",
      "['gilmax jose', 'rua do oiteiro', 'jardim ipiranga', '654.025.465-87']\n",
      "['jonas jose', 'rua oito, 255', 'caiçara', '656.263.856-21']\n",
      "['jefferson jose', 'rua da caatinga,45', 'são pedro', '859.562.415-78']\n"
     ]
    }
   ],
   "source": [
    "for i in lista1:\n",
    "    print(i)"
   ]
  },
  {
   "cell_type": "code",
   "execution_count": 12,
   "metadata": {},
   "outputs": [],
   "source": [
    "\n",
    "lista2 = [12,16,56,84,45,16,96]"
   ]
  },
  {
   "cell_type": "code",
   "execution_count": 20,
   "metadata": {},
   "outputs": [
    {
     "name": "stdout",
     "output_type": "stream",
     "text": [
      "325\n"
     ]
    }
   ],
   "source": [
    "from functools import reduce\n",
    "soma = reduce(lambda x,y:x+y,lista2) \n",
    "print(soma)"
   ]
  },
  {
   "cell_type": "code",
   "execution_count": 19,
   "metadata": {},
   "outputs": [
    {
     "name": "stdout",
     "output_type": "stream",
     "text": [
      "15\n"
     ]
    }
   ],
   "source": [
    "valores = [1, 2, 3, 4, 5]\n",
    "soma = reduce(lambda x, y: x + y, valores)\n",
    "print(soma)"
   ]
  },
  {
   "cell_type": "code",
   "execution_count": null,
   "metadata": {},
   "outputs": [],
   "source": []
  }
 ],
 "metadata": {
  "kernelspec": {
   "display_name": "Python 3",
   "language": "python",
   "name": "python3"
  },
  "language_info": {
   "codemirror_mode": {
    "name": "ipython",
    "version": 3
   },
   "file_extension": ".py",
   "mimetype": "text/x-python",
   "name": "python",
   "nbconvert_exporter": "python",
   "pygments_lexer": "ipython3",
   "version": "3.8.5"
  }
 },
 "nbformat": 4,
 "nbformat_minor": 4
}
