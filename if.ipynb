{
 "cells": [
  {
   "cell_type": "code",
   "execution_count": 1,
   "metadata": {},
   "outputs": [
    {
     "name": "stdout",
     "output_type": "stream",
     "text": [
      "é maior\n"
     ]
    }
   ],
   "source": [
    "#condicional if\n",
    "if 5 > 2:\n",
    "    print('é maior')\n",
    "else:\n",
    "    print('não é maioir')"
   ]
  },
  {
   "cell_type": "code",
   "execution_count": 4,
   "metadata": {},
   "outputs": [
    {
     "name": "stdout",
     "output_type": "stream",
     "text": [
      "amarelo\n",
      "amarelo\n",
      "verde\n",
      "verde\n",
      "azul\n",
      "azul\n",
      "vermelho\n",
      "vermelho\n"
     ]
    }
   ],
   "source": [
    "li = ['amarelo','verde','azul','vermelho']\n",
    "for i in li:\n",
    "    if i == 'amarelo':\n",
    "        print(li[0])\n",
    "    elif i == 'verde':\n",
    "        print(li[1])\n",
    "    elif i == 'azul':\n",
    "        print(li[2])\n",
    "    elif i == 'vermelho':\n",
    "        print(li[3])\n",
    "    print(i)"
   ]
  },
  {
   "cell_type": "code",
   "execution_count": null,
   "metadata": {},
   "outputs": [],
   "source": []
  }
 ],
 "metadata": {
  "kernelspec": {
   "display_name": "Python 3",
   "language": "python",
   "name": "python3"
  },
  "language_info": {
   "codemirror_mode": {
    "name": "ipython",
    "version": 3
   },
   "file_extension": ".py",
   "mimetype": "text/x-python",
   "name": "python",
   "nbconvert_exporter": "python",
   "pygments_lexer": "ipython3",
   "version": "3.8.5"
  }
 },
 "nbformat": 4,
 "nbformat_minor": 4
}
