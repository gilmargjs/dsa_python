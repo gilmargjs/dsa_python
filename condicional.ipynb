{
 "cells": [
  {
   "cell_type": "code",
   "execution_count": 1,
   "metadata": {},
   "outputs": [
    {
     "name": "stdout",
     "output_type": "stream",
     "text": [
      "voçê pode dirigir! \n"
     ]
    }
   ],
   "source": [
    "idade = 18\n",
    "if idade > 17:\n",
    "    print(\"voçê pode dirigir! \")\n",
    "    "
   ]
  },
  {
   "cell_type": "code",
   "execution_count": 3,
   "metadata": {},
   "outputs": [
    {
     "name": "stdout",
     "output_type": "stream",
     "text": [
      "ok bob, voçê está autorisado a entrar \n"
     ]
    }
   ],
   "source": [
    "nome = 'bob'\n",
    "if idade > 13:\n",
    "    if nome == 'bob':\n",
    "        print(\"ok bob, voçê está autorisado a entrar!\")\n",
    "    else:\n",
    "        print(\"Descupe, mas voçê não pode entrar \")"
   ]
  },
  {
   "cell_type": "code",
   "execution_count": 4,
   "metadata": {},
   "outputs": [
    {
     "name": "stdout",
     "output_type": "stream",
     "text": [
      "ok job, voçê está autorizado a entrar\n"
     ]
    }
   ],
   "source": [
    "idade2 = 13\n",
    "nome = 'job'\n",
    "if idade >= 13  and nome == 'job':\n",
    "    print('ok job, voçê está autorizado a entrar!')"
   ]
  },
  {
   "cell_type": "code",
   "execution_count": 5,
   "metadata": {},
   "outputs": [
    {
     "name": "stdout",
     "output_type": "stream",
     "text": [
      "ok job, voçẽ está autorizado a entrar!\n"
     ]
    }
   ],
   "source": [
    "if(idade >= 13)or (nome == 'job'):\n",
    "    print('ok job, voçẽ está autorizado a entrar!')"
   ]
  },
  {
   "cell_type": "code",
   "execution_count": 6,
   "metadata": {},
   "outputs": [
    {
     "name": "stdout",
     "output_type": "stream",
     "text": [
      "Hoje vai chover!\n"
     ]
    }
   ],
   "source": [
    "dia = \"Terça\"\n",
    "if dia == 'segunda':\n",
    "    print('Hoje fará sol!')\n",
    "elif dia == 'Terça':\n",
    "    print('Hoje vai chover!')\n",
    "else:\n",
    "    print('Sem previsão do tempo para o dia selecionado')"
   ]
  },
  {
   "cell_type": "code",
   "execution_count": 39,
   "metadata": {},
   "outputs": [
    {
     "name": "stdout",
     "output_type": "stream",
     "text": [
      "==================================================\n",
      "VERIFIACAR NOTA DO ALUNO:\n",
      "==================================================\n",
      "Escolha a Disciplina:\n",
      "1-Geografia,2-Matematica,3-Historia,4-Fisica\n",
      "digite a opção2\n",
      "Digite a nota final (entre 0 e 100):69\n",
      "==================================================\n",
      "lamento,voçê precisa estudar mais\n",
      "==================================================\n"
     ]
    }
   ],
   "source": [
    "print('='*50)\n",
    "print('VERIFIACAR NOTA DO ALUNO:')\n",
    "print('='*50)\n",
    "print('Escolha a Disciplina:')\n",
    "print('1-Geografia,2-Matematica,3-Historia,4-Fisica')\n",
    "disciplina = input(\"digite a opção\")\n",
    "nota_final = input('Digite a nota final (entre 0 e 100):')\n",
    "print('='*50)\n",
    "       \n",
    "if disciplina == '1' and nota_final >= '70':\n",
    "    print(f'Voçê foi aprovado em Geografia, sua nota foi {nota_final}')\n",
    "elif disciplina == '2' and nota_final >= '70':\n",
    "    print(f'Voçê foi aprovado em Matematica, sua nota foi {nota_final}')\n",
    "elif disciplina == '3' and nota_final >= '70':\n",
    "    print(f'Voçê foi aprovado em Historia, sua nota foi {nota_final}')\n",
    "elif disciplina == '4' and nota_final >= '70':\n",
    "    print(f'Voçê foi aprovado em Fisica, sua nota foi {nota_final}')\n",
    "else:\n",
    "    print('lamento,voçê precisa estudar mais')\n",
    "print('='*50)\n"
   ]
  },
  {
   "cell_type": "code",
   "execution_count": null,
   "metadata": {},
   "outputs": [],
   "source": []
  },
  {
   "cell_type": "code",
   "execution_count": null,
   "metadata": {},
   "outputs": [],
   "source": []
  },
  {
   "cell_type": "code",
   "execution_count": null,
   "metadata": {},
   "outputs": [],
   "source": []
  }
 ],
 "metadata": {
  "kernelspec": {
   "display_name": "Python 3",
   "language": "python",
   "name": "python3"
  },
  "language_info": {
   "codemirror_mode": {
    "name": "ipython",
    "version": 3
   },
   "file_extension": ".py",
   "mimetype": "text/x-python",
   "name": "python",
   "nbconvert_exporter": "python",
   "pygments_lexer": "ipython3",
   "version": "3.8.5"
  }
 },
 "nbformat": 4,
 "nbformat_minor": 4
}
